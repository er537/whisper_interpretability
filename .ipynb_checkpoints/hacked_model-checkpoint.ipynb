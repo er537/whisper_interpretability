{
 "cells": [
  {
   "cell_type": "code",
   "execution_count": 1,
   "id": "41692df9-26a4-4fb5-abfb-e67146d5915b",
   "metadata": {
    "tags": []
   },
   "outputs": [
    {
     "name": "stderr",
     "output_type": "stream",
     "text": [
      "/venv/lib/python3.8/site-packages/requests/__init__.py:102: RequestsDependencyWarning: urllib3 (1.26.16) or chardet (5.1.0)/charset_normalizer (2.0.12) doesn't match a supported version!\n",
      "  warnings.warn(\"urllib3 ({}) or chardet ({})/charset_normalizer ({}) doesn't match a supported \"\n",
      "/venv/lib/python3.8/site-packages/whisper/timing.py:58: NumbaDeprecationWarning: \u001b[1mThe 'nopython' keyword argument was not supplied to the 'numba.jit' decorator. The implicit default value for this argument is currently False, but it will be changed to True in Numba 0.59.0. See https://numba.readthedocs.io/en/stable/reference/deprecation.html#deprecation-of-object-mode-fall-back-behaviour-when-using-jit for details.\u001b[0m\n",
      "  def backtrace(trace: np.ndarray):\n"
     ]
    }
   ],
   "source": [
    "import whisper\n",
    "import torch.nn as nn\n",
    "import torch\n",
    "import matplotlib.pyplot as plt"
   ]
  },
  {
   "cell_type": "code",
   "execution_count": 2,
   "id": "67cffbf6-f619-48c4-97f1-3d7b7a2dd62c",
   "metadata": {
    "tags": []
   },
   "outputs": [],
   "source": [
    "from whisper_repo.model import Whisper\n",
    "from utils import load_audio, trim_audio, device\n",
    "from whisper_repo.tokenizer import get_tokenizer\n",
    "tokenizer = get_tokenizer(multilingual=True)"
   ]
  },
  {
   "cell_type": "code",
   "execution_count": 3,
   "id": "e6f80376-82d6-467f-9eaf-fe53048e58ab",
   "metadata": {
    "tags": []
   },
   "outputs": [],
   "source": [
    "model_size = \"tiny\"\n",
    "model = whisper.load_model(model_size)"
   ]
  },
  {
   "cell_type": "code",
   "execution_count": 4,
   "id": "e191a025-6a06-4886-b037-61a1cf929032",
   "metadata": {
    "tags": []
   },
   "outputs": [],
   "source": [
    "ModelDims = model.dims"
   ]
  },
  {
   "cell_type": "code",
   "execution_count": 5,
   "id": "ccbca8ca-25a0-4470-ad1e-59ea31531c95",
   "metadata": {
    "tags": []
   },
   "outputs": [],
   "source": [
    "hacked_model = Whisper(ModelDims)"
   ]
  },
  {
   "cell_type": "code",
   "execution_count": 6,
   "id": "a11a0c21-a176-4892-ac0a-79733232d814",
   "metadata": {
    "tags": []
   },
   "outputs": [
    {
     "data": {
      "text/plain": [
       "<All keys matched successfully>"
      ]
     },
     "execution_count": 6,
     "metadata": {},
     "output_type": "execute_result"
    }
   ],
   "source": [
    "hacked_model.load_state_dict(model.state_dict())"
   ]
  },
  {
   "cell_type": "code",
   "execution_count": 7,
   "id": "0032643a-7552-4487-ab27-e3c00856dcb7",
   "metadata": {
    "tags": []
   },
   "outputs": [],
   "source": [
    "prompt = tokenizer.encode(text=\"Beyonce Knowles Carter\")"
   ]
  },
  {
   "cell_type": "code",
   "execution_count": 20,
   "id": "546fbdd8-b188-48fd-bbb6-42c6288e3450",
   "metadata": {
    "tags": []
   },
   "outputs": [
    {
     "name": "stderr",
     "output_type": "stream",
     "text": [
      "/tmp/ipykernel_4010/722332004.py:7: UserWarning: To copy construct from a tensor, it is recommended to use sourceTensor.clone().detach() or sourceTensor.clone().detach().requires_grad_(True), rather than torch.tensor(sourceTensor).\n",
      "  mels = torch.tensor(whisper.log_mel_spectrogram(audio)).to(device)\n"
     ]
    }
   ],
   "source": [
    "audio_path = '/data/artefacts/diarization/testsets/adobe/wavs/Hot_ones_snl.wav'\n",
    "# audio_path = '/data/audio/mirrored/es/mirror_wav/cantab/data/autoAuto/es-US/am/leondejuda/8259.mp3.wav'\n",
    "audio = load_audio(audio_path)\n",
    "audio = trim_audio(audio, start_time=0.0, end_time=25.0)\n",
    "# audio = torch.randn(160000,)\n",
    "audio = whisper.pad_or_trim(audio.flatten())\n",
    "mels = torch.tensor(whisper.log_mel_spectrogram(audio)).to(device)"
   ]
  },
  {
   "cell_type": "code",
   "execution_count": 21,
   "id": "d936d6f6-22cc-4a04-8ca5-b5b70876b60a",
   "metadata": {
    "tags": []
   },
   "outputs": [],
   "source": [
    "# mels = mels.repeat(10, 1, 1) # fake batching\n",
    "hacked_model.to(device)\n",
    "mels = mels.to(device)"
   ]
  },
  {
   "cell_type": "code",
   "execution_count": 22,
   "id": "487f9935-5697-447b-b294-774dac58606c",
   "metadata": {
    "tags": []
   },
   "outputs": [
    {
     "data": {
      "text/plain": [
       "\"Hot ones, the show where celebrities answer hot questions while feeding even hotter wings. Hi, I'm Sean Evans. I'm joined today by Royalti, Grammy, winning recording artist, actress, and icon Beyonce Null's Carter. Thank you.\""
      ]
     },
     "execution_count": 22,
     "metadata": {},
     "output_type": "execute_result"
    }
   ],
   "source": [
    "options = whisper.DecodingOptions(without_timestamps=False, fp16=(device == \"cuda\"), language='en')\n",
    "output = hacked_model.decode(mels, options)\n",
    "output.text"
   ]
  },
  {
   "cell_type": "code",
   "execution_count": 37,
   "id": "f845cc18-f351-4a5d-adad-f06040f863c6",
   "metadata": {
    "tags": []
   },
   "outputs": [
    {
     "data": {
      "text/plain": [
       "\"Hot ones, the show where celebrities answer hot questions while eating even hotter wings. Hi, I'm Sean Evans. I'm joined today by Royalty, Grammy, winning recording artist, actress, and icon, Beyonce Knowles Carter.\""
      ]
     },
     "execution_count": 37,
     "metadata": {},
     "output_type": "execute_result"
    }
   ],
   "source": [
    "prompt = \"while eating even hotter wings, Beyonce Knowles Carter, Royalty\"\n",
    "options = whisper.DecodingOptions(without_timestamps=False, fp16=(device == \"cuda\"), language='en', prompt=prompt)\n",
    "output = hacked_model.decode(mels, options)\n",
    "output.text"
   ]
  },
  {
   "cell_type": "code",
   "execution_count": 13,
   "id": "d0ef23e6-5d37-46cc-ad30-6b5e69f5c0ae",
   "metadata": {
    "tags": []
   },
   "outputs": [
    {
     "data": {
      "text/plain": [
       "[15111]"
      ]
     },
     "execution_count": 13,
     "metadata": {},
     "output_type": "execute_result"
    }
   ],
   "source": [
    "prompt = \"Donald\"\n",
    "tokenizer.encode(text=prompt)"
   ]
  },
  {
   "cell_type": "code",
   "execution_count": 14,
   "id": "31e23bc9-6153-4569-9766-f4276ceee20a",
   "metadata": {},
   "outputs": [],
   "source": [
    "def plot_topk_tokens(tokens: list, probs: list, tokenizer, prompt, model_size):\n",
    "    text = []\n",
    "    for token in tokens:\n",
    "        text.append(f\"{prompt+tokenizer.decode([token])}\")\n",
    "    plt.scatter(text, probs)\n",
    "    plt.title(f\"Prompt={prompt}, Model Size={model_size}\")"
   ]
  },
  {
   "cell_type": "code",
   "execution_count": 15,
   "id": "2cdb769c-0151-482b-821c-892e654a355f",
   "metadata": {
    "tags": []
   },
   "outputs": [
    {
     "data": {
      "image/png": "[encoded data removed]",
      "text/plain": [
       "<Figure size 640x480 with 1 Axes>"
      ]
     },
     "metadata": {},
     "output_type": "display_data"
    }
   ],
   "source": [
    "plot_topk_tokens([311, 3899,  296, 3693, 8030], [0.1208, 0.0343, 0.0275, 0.0184, 0.0149], tokenizer, prompt=prompt, model_size=model_size)"
   ]
  },
  {
   "cell_type": "code",
   "execution_count": null,
   "id": "302981fe-48fc-4d15-90eb-a460a0e48d81",
   "metadata": {},
   "outputs": [],
   "source": []
  }
 ],
 "metadata": {
  "kernelspec": {
   "display_name": "Python 3",
   "language": "python",
   "name": "python3"
  },
  "language_info": {
   "codemirror_mode": {
    "name": "ipython",
    "version": 3
   },
   "file_extension": ".py",
   "mimetype": "text/x-python",
   "name": "python",
   "nbconvert_exporter": "python",
   "pygments_lexer": "ipython3",
   "version": "3.8.10"
  }
 },
 "nbformat": 4,
 "nbformat_minor": 5
}
