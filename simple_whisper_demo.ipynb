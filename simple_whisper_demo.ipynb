{
 "cells": [
  {
   "cell_type": "code",
   "execution_count": 1,
   "id": "29549bb4-3a4d-4e32-a589-4cb7a98e59c1",
   "metadata": {
    "tags": []
   },
   "outputs": [
    {
     "name": "stdout",
     "output_type": "stream",
     "text": [
      "/home/ellenar/git/acoustic_activations_interp\n"
     ]
    }
   ],
   "source": [
    "cd ~/git/acoustic_activations_interp/"
   ]
  },
  {
   "cell_type": "code",
   "execution_count": 2,
   "id": "b570cb63-5841-4baa-9c80-68b5cd494068",
   "metadata": {
    "tags": []
   },
   "outputs": [
    {
     "name": "stderr",
     "output_type": "stream",
     "text": [
      "/venv/lib/python3.8/site-packages/requests/__init__.py:102: RequestsDependencyWarning: urllib3 (1.26.16) or chardet (5.1.0)/charset_normalizer (2.0.12) doesn't match a supported version!\n",
      "  warnings.warn(\"urllib3 ({}) or chardet ({})/charset_normalizer ({}) doesn't match a supported \"\n",
      "/venv/lib/python3.8/site-packages/whisper/timing.py:58: NumbaDeprecationWarning: \u001b[1mThe 'nopython' keyword argument was not supplied to the 'numba.jit' decorator. The implicit default value for this argument is currently False, but it will be changed to True in Numba 0.59.0. See https://numba.readthedocs.io/en/stable/reference/deprecation.html#deprecation-of-object-mode-fall-back-behaviour-when-using-jit for details.\u001b[0m\n",
      "  def backtrace(trace: np.ndarray):\n"
     ]
    }
   ],
   "source": [
    "import torch\n",
    "import whisper\n",
    "from utils import device, trim_audio, load_audio"
   ]
  },
  {
   "cell_type": "code",
   "execution_count": 11,
   "id": "77b1e357-45d3-41b7-8a43-2a86d0473a03",
   "metadata": {
    "tags": []
   },
   "outputs": [
    {
     "name": "stderr",
     "output_type": "stream",
     "text": [
      "/tmp/ipykernel_53633/3073661131.py:7: UserWarning: To copy construct from a tensor, it is recommended to use sourceTensor.clone().detach() or sourceTensor.clone().detach().requires_grad_(True), rather than torch.tensor(sourceTensor).\n",
      "  mels = torch.tensor(whisper.log_mel_spectrogram(audio)).to(device)\n"
     ]
    }
   ],
   "source": [
    "# audio_path = '/data/artefacts/diarization/testsets/adobe/wavs/Hot_ones_snl.wav'\n",
    "audio_path = '/data/audio/mirrored/es/mirror_wav/cantab/data/autoAuto/es-US/am/leondejuda/8259.mp3.wav'\n",
    "model = whisper.load_model('small')\n",
    "audio = load_audio(audio_path)\n",
    "audio = trim_audio(audio, start_time=2443.58, end_time=2444.08)\n",
    "audio = whisper.pad_or_trim(audio.flatten())\n",
    "mels = torch.tensor(whisper.log_mel_spectrogram(audio)).to(device)\n",
    "options = whisper.DecodingOptions(without_timestamps=False, fp16=(device == \"cuda\"))\n",
    "model.to(device)\n",
    "mels = mels.to(device)\n",
    "output = model.decode(mels, options)"
   ]
  },
  {
   "cell_type": "code",
   "execution_count": 12,
   "id": "e041bf63-93e1-4dc3-8378-c8c3b45c8e49",
   "metadata": {
    "tags": []
   },
   "outputs": [
    {
     "data": {
      "text/plain": [
       "DecodingResult(audio_features=tensor([[-2.0918, -1.6914,  0.7188,  ...,  0.5571, -0.3057,  0.2900],\n",
       "        [-1.4844, -1.4434,  0.7559,  ...,  0.3962, -0.4124, -0.7041],\n",
       "        [-0.9438, -1.5645,  0.4807,  ...,  0.6641,  0.2900, -1.0117],\n",
       "        ...,\n",
       "        [ 0.5293, -0.0802, -0.5898,  ..., -0.2434, -0.1194, -0.8530],\n",
       "        [-0.1180, -0.8926, -0.6064,  ..., -0.6387,  0.0707, -1.0244],\n",
       "        [ 0.4302,  0.4788,  1.1611,  ...,  0.4231, -2.1172, -0.2090]],\n",
       "       device='cuda:0', dtype=torch.float16), language='ko', language_probs=None, tokens=[50364, 376, 7869, 45828, 17376, 1831, 15608, 7416, 13, 50614], text='MBC 뉴스 김지경입니다.', avg_logprob=-1.0380214344371448, no_speech_prob=0.9703292846679688, temperature=0.0, compression_ratio=0.7317073170731707)"
      ]
     },
     "execution_count": 12,
     "metadata": {},
     "output_type": "execute_result"
    }
   ],
   "source": [
    "output"
   ]
  },
  {
   "cell_type": "code",
   "execution_count": null,
   "id": "f9a7d4bf-d6d3-459b-b3a5-09133aa7faf2",
   "metadata": {},
   "outputs": [],
   "source": []
  }
 ],
 "metadata": {
  "kernelspec": {
   "display_name": "Python 3",
   "language": "python",
   "name": "python3"
  },
  "language_info": {
   "codemirror_mode": {
    "name": "ipython",
    "version": 3
   },
   "file_extension": ".py",
   "mimetype": "text/x-python",
   "name": "python",
   "nbconvert_exporter": "python",
   "pygments_lexer": "ipython3",
   "version": "3.8.10"
  }
 },
 "nbformat": 4,
 "nbformat_minor": 5
}
